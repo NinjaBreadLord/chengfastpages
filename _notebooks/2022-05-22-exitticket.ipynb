{
 "cells": [
  {
   "attachments": {},
   "cell_type": "markdown",
   "metadata": {},
   "source": [
    "# Exit Ticket "
   ]
  },
  {
   "cell_type": "code",
   "execution_count": null,
   "metadata": {},
   "outputs": [],
   "source": []
  },
  {
   "attachments": {},
   "cell_type": "markdown",
   "metadata": {},
   "source": [
    "%%html\n",
    "<!DOCTYPE html>\n",
    "<html>\n",
    "<head>\n",
    "  <title>Typing Test</title>\n",
    "</head>\n",
    "<body>\n",
    "  <h1>Typing Test</h1>\n",
    "  <p id=\"quote\">Lorem ipsum dolor sit amet, consectetur adipiscing elit.</p>\n",
    "  <textarea id=\"input\" placeholder=\"Start typing here...\"></textarea>\n",
    "  <button id=\"startButton\">Start Test</button>\n",
    "  <p id=\"result\"></p>\n",
    "\n",
    "  <script src=\"script.js\"></script>\n",
    "</body>\n",
    "</html>\n"
   ]
  },
  {
   "cell_type": "code",
   "execution_count": null,
   "metadata": {},
   "outputs": [],
   "source": []
  }
 ],
 "metadata": {
  "kernelspec": {
   "display_name": "Java",
   "language": "java",
   "name": "java"
  },
  "language_info": {
   "name": "java"
  },
  "orig_nbformat": 4
 },
 "nbformat": 4,
 "nbformat_minor": 2
}
