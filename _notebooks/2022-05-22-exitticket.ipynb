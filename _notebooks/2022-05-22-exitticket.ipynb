{
 "cells": [
  {
   "attachments": {},
   "cell_type": "markdown",
   "metadata": {},
   "source": [
    "# Exit Ticket\n",
    "- toc: false\n",
    "- badges: true\n",
    "- comments: true\n",
    "- categories: [APCSA]\n"
   ]
  },
  {
   "attachments": {},
   "cell_type": "markdown",
   "metadata": {},
   "source": [
    "%%html \n",
    "\n",
    "<html>\n",
    "  <head>\n",
    "    <title>Typing Test</title>\n",
    "  </head>\n",
    "  <body>\n",
    "    <h1>Typing Test</h1>\n",
    "    <p id=\"quote\">Lorem ipsum dolor sit amet, consectetur adipiscing elit.</p>\n",
    "    <textarea id=\"input\" placeholder=\"Start typing here...\"></textarea>\n",
    "    <button id=\"startButton\">Start Test</button>\n",
    "    <p id=\"result\"></p>\n",
    "    <script>\n",
    "      window.addEventListener('DOMContentLoaded', (event) => {\n",
    "        const quoteElement = document.getElementById('quote');\n",
    "        const inputElement = document.getElementById('input');\n",
    "        const startButton = document.getElementById('startButton');\n",
    "        const resultElement = document.getElementById('result');\n",
    "        let quote = quoteElement.textContent.trim();\n",
    "        let startTime, endTime;\n",
    "        function startTest() {\n",
    "          inputElement.disabled = false;\n",
    "          inputElement.value = '';\n",
    "          inputElement.focus();\n",
    "          startButton.textContent = 'Restart Test';\n",
    "          resultElement.textContent = '';\n",
    "          startTime = new Date();\n",
    "        }\n",
    "        function endTest() {\n",
    "          endTime = new Date();\n",
    "          inputElement.disabled = true;\n",
    "          let userText = inputElement.value.trim();\n",
    "          let words = userText.split(' ');\n",
    "          let quoteWords = quote.split(' ');\n",
    "          let correctCount = 0;\n",
    "          for (let i = 0; i < quoteWords.length; i++) {\n",
    "            if (words[i] && words[i] === quoteWords[i]) {\n",
    "              correctCount++;\n",
    "            }\n",
    "          }\n",
    "          let accuracy = (correctCount / quoteWords.length) * 100;\n",
    "          let minutes = (endTime - startTime) / 60000;\n",
    "          let wpm = Math.round(quoteWords.length / minutes);\n",
    "          resultElement.textContent = `Accuracy: ${accuracy.toFixed(2)}% | WPM: ${wpm}`;\n",
    "        }\n",
    "        startButton.addEventListener('click', function() {\n",
    "          if (startButton.textContent === 'Start Test') {\n",
    "            startTest();\n",
    "          } else {\n",
    "            endTest();\n",
    "          }\n",
    "        });\n",
    "      });\n",
    "  </script>\n",
    "  </body>\n",
    "</html>"
   ]
  }
 ],
 "metadata": {
  "kernelspec": {
   "display_name": "Java",
   "language": "java",
   "name": "java"
  },
  "language_info": {
   "name": "java"
  },
  "orig_nbformat": 4
 },
 "nbformat": 4,
 "nbformat_minor": 2
}
