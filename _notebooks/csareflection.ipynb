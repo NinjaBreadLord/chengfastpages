{
 "cells": [
  {
   "cell_type": "markdown",
   "metadata": {},
   "source": [
    "# CSA Reflection"
   ]
  },
  {
   "attachments": {},
   "cell_type": "markdown",
   "metadata": {},
   "source": [
    "Throughout the 2023 CSA course, I was able to pick up a good chunk of Java and learn quite a bit about data structures. I established fundementals for Java, and also foundations in things like Array Lists, Hashmaps, etc. CSA is just a beginning piece. Not only that, I was able to learn to collaborate in a coding environment which I understand will be useful in the future. \n",
    "\n",
    "I think much of my low points were in Trimester 2, where teamwork wasn't good and I felt as if our project was not what we envisioned it to be. My high would be the first and last tri, where I got more work done and was able to create a cool project by the end of the year. \n",
    "\n",
    "With CompSci, I am uncertain as to what my future plans are. I know that in college I will eventually work more with other coding languages, but to what extent I am uncertain. I think that at college I will try to learn more on my own and possibly find work relating to computers in general, and move away from just coding. \n",
    "\n",
    "With education I will be heading off into college at UIUC(University of Illinois) for computer engineering, where I will try to make the most out of my college experience as well as my academics.\n",
    "\n",
    "I think my Senior year in computer science was more fulfilling than last year, and my learning in Java was arguably more than what I learned in Python in CSP. Less stuff about the weird stuff in the AP course and more about actual coding concepts.\n",
    "\n",
    "-Everitt C. "
   ]
  }
 ],
 "metadata": {
  "language_info": {
   "name": "python"
  },
  "orig_nbformat": 4
 },
 "nbformat": 4,
 "nbformat_minor": 2
}
