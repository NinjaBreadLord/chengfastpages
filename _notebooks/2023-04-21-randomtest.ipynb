{
 "cells": [
  {
   "attachments": {},
   "cell_type": "markdown",
   "metadata": {},
   "source": [
    "# Random Test"
   ]
  },
  {
   "cell_type": "code",
   "execution_count": 1,
   "metadata": {
    "vscode": {
     "languageId": "java"
    }
   },
   "outputs": [
    {
     "name": "stdout",
     "output_type": "stream",
     "text": [
      "book1 id: 3013\n",
      "book2 id: 737\n",
      "book1 shelf life: 11 nanoseconds\n",
      "bookcount: 2\n",
      "2\n",
      "2\n"
     ]
    }
   ],
   "source": [
    "import java.util.Random;\n",
    "public class Book {\n",
    "    public final Date creationDate;\n",
    "    public String bookTitle;\n",
    "    public static int bookCount;\n",
    "    public Book(String bookTitle){\n",
    "        this.bookTitle = bookTitle;\n",
    "        this.creationDate = new Date();\n",
    "    }\n",
    "    public int randomID(){\n",
    "        Random rand = new Random();\n",
    "        int Id = rand.nextInt(10000);\n",
    "        bookCount++;\n",
    "        return Id;\n",
    "    }\n",
    "    public int getBookCount(){\n",
    "        return bookCount;\n",
    "    }\n",
    "    public String toString(){\n",
    "        return this.bookTitle;\n",
    "    }\n",
    "\n",
    "    public long shelfLife(){\n",
    "        Date currentDate = new Date();\n",
    "        long timeDiff = Math.abs(this.creationDate.getTime() - currentDate.getTime());\n",
    "        return timeDiff;\n",
    "    }\n",
    "\n",
    "    public static void main(String[] args){\n",
    "        Book book1 = new Book(\"book1\");\n",
    "        Book book2 = new Book(\"book2\");\n",
    "        System.out.println(book1.toString() + \" id: \" + book1.randomID());\n",
    "        System.out.println(book2.toString() + \" id: \" + book2.randomID());\n",
    "        System.out.println(\"book1 shelf life: \" + book1.shelfLife() + \" nanoseconds\");\n",
    "        System.out.println(\"bookcount: \" + bookCount);    \n",
    "        System.out.println(Book.bookCount);\n",
    "        System.out.println(book1.bookCount);\n",
    "    }\n",
    "    }\n",
    "Book.main(null);"
   ]
  },
  {
   "cell_type": "code",
   "execution_count": 48,
   "metadata": {
    "vscode": {
     "languageId": "java"
    }
   },
   "outputs": [
    {
     "name": "stdout",
     "output_type": "stream",
     "text": [
      "novel1 shelf life: 0 nanoseconds\n",
      "Novel One\n"
     ]
    }
   ],
   "source": [
    "public class Novel extends Book{\n",
    "    public String author;\n",
    "    public Novel(String bookTitle){\n",
    "        super(bookTitle);\n",
    "    }\n",
    "\n",
    "    public void Author(String author){\n",
    "        this.author = author;\n",
    "    }\n",
    "\n",
    "    public String getAuthor(){\n",
    "        return author;\n",
    "    }\n",
    "    \n",
    "    public static void main(String args[]){\n",
    "        Novel novel1 = new Novel(\"Novel One\");\n",
    "        System.out.println(\"novel1 shelf life: \" + novel1.shelfLife() + \" nanoseconds\");\n",
    "        System.out.println(novel1.toString());\n",
    "    }\n",
    "}\n",
    "Novel.main(null);"
   ]
  },
  {
   "cell_type": "code",
   "execution_count": 53,
   "metadata": {
    "vscode": {
     "languageId": "java"
    }
   },
   "outputs": [
    {
     "name": "stdout",
     "output_type": "stream",
     "text": [
      "textbook1 shelf life: 0 nanoseconds\n",
      "Textbook One\n"
     ]
    }
   ],
   "source": [
    "public class Textbook extends Book{\n",
    "    public String publishingCompany;\n",
    "    public Textbook(String bookTitle){\n",
    "        super(bookTitle);\n",
    "    }\n",
    "\n",
    "    public void publishingCompany(String publishingCompany){\n",
    "        this.publishingCompany = publishingCompany;\n",
    "    }\n",
    "\n",
    "    public String getPublishingCompany(){\n",
    "        return publishingCompany;\n",
    "    }\n",
    "    \n",
    "    public static void main(String args[]){\n",
    "        Textbook textbook1 = new Textbook(\"Textbook One\");\n",
    "        System.out.println(\"textbook1 shelf life: \" + textbook1.shelfLife() + \" nanoseconds\");\n",
    "        System.out.println(textbook1.toString());\n",
    "    }\n",
    "}\n",
    "Textbook.main(null);"
   ]
  }
 ],
 "metadata": {
  "kernelspec": {
   "display_name": "Java",
   "language": "java",
   "name": "java"
  },
  "language_info": {
   "codemirror_mode": "java",
   "file_extension": ".jshell",
   "mimetype": "text/x-java-source",
   "name": "Java",
   "pygments_lexer": "java",
   "version": "17.0.5+8-Ubuntu-2ubuntu120.04"
  },
  "orig_nbformat": 4
 },
 "nbformat": 4,
 "nbformat_minor": 2
}
