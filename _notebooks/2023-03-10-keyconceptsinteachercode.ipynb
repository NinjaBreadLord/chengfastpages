{
 "cells": [
  {
   "attachments": {},
   "cell_type": "markdown",
   "metadata": {},
   "source": [
    "## Key Concepts From Mr. Mortenson's Code"
   ]
  },
  {
   "attachments": {},
   "cell_type": "markdown",
   "metadata": {},
   "source": [
    "### Methods and Control structures\n",
    "* Methods in overall coding are blocks of code that can be called upon and reused when needed within anywhere of the code. \n",
    "* When defining methods, one should be aware of the variable type that the method would return, parameters it takes in, of course the code, and then its implementation in calling.\n",
    "\n",
    "### Data Types\n",
    "* Data types in Java are different values that could be stored in a variable in Java. As far as it goes, there are primitive data types and non primitive.\n"
   ]
  },
  {
   "attachments": {},
   "cell_type": "markdown",
   "metadata": {},
   "source": [
    "### Looking at the Diverse Arrays/Matrix \n",
    "* 2D Arrays are slightly tricky - the outer int[][] array is considered a non-primitive data type, meaning that values like null can be stored. However, within each array only primitive data types of the respective variable type can be stored. \n",
    "\n",
    "* Within Mort's code he defines various methods within the Diverse array class, beginning with the arraySum method. It takes in an array, and finds the sum of the integers in the array. \n",
    "```\n",
    " public class DiverseArray {\n",
    "    public static int arraySum(int[] arr) {\n",
    "        int sum = 0;    \n",
    "\n",
    "        for (int num : arr) {\n",
    "            sum += num;\n",
    "            System.out.print(num + \"\\t\"); \n",
    "        }\n",
    "\n",
    "        return sum;\n",
    "    }\n",
    "```\n",
    "\n",
    "* Next, he creates the sum of 2d arrays. Within the method he uses the other method defined previously to return a list of the sums of each row of the 2d array. \n",
    "\n",
    "```\n",
    "public static int[] rowSums(int[][] arr2D) {\n",
    "    int rows = arr2D.length;        \n",
    "    int[] sumList = new int[rows];  \n",
    "\n",
    "    for (int i = 0; i < rows; i++) {\n",
    "        sumList[i] = arraySum(arr2D[i]);\n",
    "        System.out.println(\"= \\t\" + sumList[i]);  // debug\n",
    "    }\n",
    "\n",
    "    return sumList;\n",
    "}\n",
    "```\n",
    "* The final method simply checks if the rows are similar to each other\n"
   ]
  },
  {
   "attachments": {},
   "cell_type": "markdown",
   "metadata": {},
   "source": [
    "### Math.random\n",
    "* Math.random generates a random value from 0 to 1. When multiplied by a range it generates a value in that range.\n",
    "* In Number.java, it is used like so\n",
    "``` \n",
    "public Number() {\n",
    "    int SIZE = 36; int MIN = 3; int RANGE = SIZE - MIN + 1;  // constants for initialization\n",
    "    this.number = (int)(Math.random()*RANGE) + MIN;  // observe RANGE calculation and MIN offset\n",
    "    this.index = Number.COUNT++;    // observe use of Class variable COUNT and post increment\n",
    "}\n",
    "``` \n",
    "* Here a range is set with variables so that it could be easily altered. Also be sure to cast the number as an integer so that a decimal value doesn't occur. \n"
   ]
  },
  {
   "attachments": {},
   "cell_type": "markdown",
   "metadata": {},
   "source": [
    "### DoNothingByValue.java\n",
    "* Overall, the DoNothingByValue demonstrates the difference in execution times between each of the methods \n",
    "* \n"
   ]
  }
 ],
 "metadata": {
  "kernelspec": {
   "display_name": "Java",
   "language": "java",
   "name": "java"
  },
  "language_info": {
   "name": "java",
   "version": "3.8.10"
  },
  "orig_nbformat": 4,
  "vscode": {
   "interpreter": {
    "hash": "916dbcbb3f70747c44a77c7bcd40155683ae19c65e1c03b4aa3499c5328201f1"
   }
  }
 },
 "nbformat": 4,
 "nbformat_minor": 2
}
