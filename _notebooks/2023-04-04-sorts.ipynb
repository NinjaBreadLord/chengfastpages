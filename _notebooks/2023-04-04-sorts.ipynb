{
 "cells": [
  {
   "attachments": {},
   "cell_type": "markdown",
   "metadata": {},
   "source": [
    "# My favorite sort"
   ]
  },
  {
   "cell_type": "code",
   "execution_count": 2,
   "metadata": {},
   "outputs": [
    {
     "name": "stdout",
     "output_type": "stream",
     "text": [
      "1 3 4 5 7 9 \n"
     ]
    }
   ],
   "source": [
    "public class BubbleSort{\n",
    "    public void bubbleSort(int arr[]){\n",
    "        for (int i = 0; i < arr.length - 1; i++){\n",
    "            for (int j = 0; j < arr.length - i - 1; j++){\n",
    "                if (arr[j] > arr[j + 1]) {\n",
    "                    int temp = arr[j];\n",
    "                    arr[j] = arr[j + 1];\n",
    "                    arr[j + 1] = temp;\n",
    "                }\n",
    "            }\n",
    "        }\n",
    "    }\n",
    "    public void toString(int arr[]){\n",
    "        for(int i = 0; i < arr.length; i++){\n",
    "            System.out.print(arr[i] + \" \");\n",
    "        }\n",
    "        System.out.println();\n",
    "    }\n",
    "    public static void main(String[] args){\n",
    "        int[] ll = { 5, 1, 4, 3, 9, 7};\n",
    "        BubbleSort b = new BubbleSort();\n",
    "        b.bubbleSort(ll);\n",
    "        b.toString(ll);\n",
    "    }\n",
    "}\n",
    "\n",
    "BubbleSort.main(null);"
   ]
  },
  {
   "attachments": {},
   "cell_type": "markdown",
   "metadata": {},
   "source": [
    "> A bubble sort basically compares each variable with each other. Although the time complexity/Big O is bad being O(n^2), I believe it to be the simplest sort to create\n",
    "\n"
   ]
  },
  {
   "cell_type": "code",
   "execution_count": null,
   "metadata": {},
   "outputs": [],
   "source": []
  }
 ],
 "metadata": {
  "kernelspec": {
   "display_name": "Java",
   "language": "java",
   "name": "java"
  },
  "language_info": {
   "codemirror_mode": "java",
   "file_extension": ".jshell",
   "mimetype": "text/x-java-source",
   "name": "java",
   "pygments_lexer": "java",
   "version": "17.0.5+8-Ubuntu-2ubuntu120.04"
  },
  "orig_nbformat": 4
 },
 "nbformat": 4,
 "nbformat_minor": 2
}
