{
 "cells": [
  {
   "cell_type": "markdown",
   "metadata": {},
   "source": [
    "# Unit 9 - Inheritance"
   ]
  },
  {
   "cell_type": "code",
   "execution_count": 1,
   "metadata": {},
   "outputs": [
    {
     "ename": "CompilationException",
     "evalue": "",
     "output_type": "error",
     "traceback": [
      "\u001b[1m\u001b[30m|   \u001b[1m\u001b[30m    public \u001b[0m\u001b[1m\u001b[30m\u001b[41m\u001b[0m\u001b[1m\u001b[30mCar(int heartbeats, String bloodtype, String eyecolor) {\u001b[0m",
      "\u001b[1m\u001b[31minvalid method declaration; return type required\u001b[0m",
      ""
     ]
    }
   ],
   "source": [
    "// Hack 1 \n",
    "class Person {\n",
    "    int heartbeats;\n",
    "    String bloodtype;\n",
    "    String eyecolor;\n",
    "\n",
    "    public Car(int heartbeats, String bloodtype, String eyecolor) {\n",
    "        this.heartbeats = heartbeats;\n",
    "        this.bloodtype = bloodtype;\n",
    "        this.eyecolor = eyecolor;\n",
    "    }\n",
    "    public void speak (){\n",
    "        System.out.print(\"Hi my name is gerald\");\n",
    "    }\n",
    "}\n",
    "class dog extends Person {\n",
    "    String tail; \n",
    "    public dog(int heartbeats, String bloodtype, String eyecolor, String tail){\n",
    "        super(heartbeats,bloodtype,eyecolor,tail);\n",
    "        this.tail = tail; \n",
    "    }\n",
    "\n",
    "    //Hack 2\n",
    "    @Override\n",
    "    public void speak(){\n",
    "        System.out.println(\"woof\");\n",
    "    }\n",
    "}\n",
    "\n",
    "\n",
    " \n",
    "class Test {\n",
    "    public static void main(String[] args)\n",
    "    {\n",
    "        dog s = new dog();\n",
    "    }\n",
    "}"
   ]
  },
  {
   "cell_type": "markdown",
   "metadata": {},
   "source": [
    "# Unit 8 - 2D Arrays"
   ]
  },
  {
   "cell_type": "code",
   "execution_count": null,
   "metadata": {},
   "outputs": [],
   "source": []
  }
 ],
 "metadata": {
  "kernelspec": {
   "display_name": "Python 3",
   "language": "python",
   "name": "python3"
  },
  "language_info": {
   "codemirror_mode": "java",
   "file_extension": ".jshell",
   "mimetype": "text/x-java-source",
   "name": "python",
   "pygments_lexer": "java",
   "version": "3.8.10"
  },
  "orig_nbformat": 4
 },
 "nbformat": 4,
 "nbformat_minor": 2
}
