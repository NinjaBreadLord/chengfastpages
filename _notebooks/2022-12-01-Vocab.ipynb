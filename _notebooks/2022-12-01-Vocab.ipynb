{
 "cells": [
  {
   "cell_type": "markdown",
   "metadata": {},
   "source": [
    "# Further Vocab Unused in Lessons \n",
    "> Some Examples\n"
   ]
  },
  {
   "cell_type": "markdown",
   "metadata": {},
   "source": [
    "## Vocab\n",
    "* Inheritance/extends - takes aspects of an existing class and replicates it within another class using the extends method, simplifying code by a lot. \n",
    "* Subclass Constructor - A subclass constructor forms after extending a previous class, and using the super(); method will take a method and replicate it in the new class. \n",
    "* Overloading - When you use the same method name in a class each with different parameters. \n",
    "* Overriding - When a subclass has the same name and parameters as the parent class\n",
    "* Abstract Class - This class’s objects and methods can be referenced, however the class itself is not initialized. \n",
    "* Polymorphism - Multiple methods with the same name but different parameters \n",
    "* Protected classes are used when you want to access the class within the package, subclasses. Can use extends to it to access. \n",
    "* Wrapper Classes - Wrapper classes allow converting primitives into objects and vice versa, which allows java to be object oriented, as primitives aren’t an object by default\n"
   ]
  }
 ],
 "metadata": {
  "kernelspec": {
   "display_name": "Java",
   "language": "java",
   "name": "java"
  },
  "language_info": {
   "name": "java"
  },
  "orig_nbformat": 4
 },
 "nbformat": 4,
 "nbformat_minor": 2
}
