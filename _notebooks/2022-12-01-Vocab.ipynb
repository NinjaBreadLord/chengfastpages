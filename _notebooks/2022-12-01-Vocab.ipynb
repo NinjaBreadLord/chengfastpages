{
 "cells": [
  {
   "cell_type": "markdown",
   "metadata": {},
   "source": [
    "# Further Vocab Unused in Lessons \n",
    "> Some Examples\n"
   ]
  },
  {
   "cell_type": "markdown",
   "metadata": {},
   "source": [
    "## Vocab\n"
   ]
  },
  {
   "cell_type": "code",
   "execution_count": 16,
   "metadata": {},
   "outputs": [
    {
     "name": "stdout",
     "output_type": "stream",
     "text": [
      "2 Organs\n"
     ]
    }
   ],
   "source": [
    "abstract class Person {\n",
    "    public void organ() {\n",
    "        System.out.println(\"3 Organs\");\n",
    "    }\n",
    "}\n",
    "\n",
    "class Joe extends Person {\n",
    "    public void organ() {\n",
    "        System.out.println(\"2 Organs\");\n",
    "    }\n",
    "}\n",
    "\n",
    "\n",
    "Joe joe = new Joe();\n",
    "joe.organ();\n"
   ]
  },
  {
   "cell_type": "markdown",
   "metadata": {},
   "source": [
    "* Abstract Class - This class’s objects and methods can be referenced, however the class itself is not initialized. \n",
    "* Inheritance/extends - takes aspects of an existing class and replicates it within another class using the extends method, simplifying code by a lot. "
   ]
  },
  {
   "cell_type": "code",
   "execution_count": 19,
   "metadata": {},
   "outputs": [
    {
     "name": "stdout",
     "output_type": "stream",
     "text": [
      "100\n",
      "100.2\n",
      "Hello\n"
     ]
    }
   ],
   "source": [
    "public class Polymorphism {\n",
    "\n",
    "\n",
    "  public void output(int x) {\n",
    "      System.out.println(x);\n",
    "  }\n",
    "\n",
    "  public void output(double x) {\n",
    "      System.out.println(x);\n",
    "  }\n",
    "  public void output(String x) {\n",
    "    System.out.println(x);\n",
    "}\n",
    "\n",
    "}\n",
    "Polymorphism polymorphism = new Polymorphism();\n",
    "\n",
    "polymorphism.output(100);\n",
    "polymorphism.output(100.2);\n",
    "polymorphism.output(\"Hello\");"
   ]
  },
  {
   "cell_type": "markdown",
   "metadata": {
    "vscode": {
     "languageId": "java"
    }
   },
   "source": [
    "* Polymorphism - Multiple methods with the same name but different parameters, uses it at different times\n",
    "* Overloading - When you use the same method name in a class each with different parameters. \n",
    "* Overriding - When a subclass has the same name and parameters as the parent class\n",
    "* Protected classes are used when you want to access the class within the package, subclasses. Can use extends to it to access. "
   ]
  },
  {
   "cell_type": "code",
   "execution_count": null,
   "metadata": {},
   "outputs": [],
   "source": [
    "class Person {\n",
    "    Person()\n",
    "    {\n",
    "        System.out.println(\"Person class Constructor\");\n",
    "    }\n",
    "}\n",
    " \n",
    "// subclass Student extending the Person class\n",
    "class Student extends Person {\n",
    "    Student()\n",
    "    {\n",
    "        super();\n",
    " \n",
    "        System.out.println(\"Student class Constructor\");\n",
    "    }\n",
    "}\n",
    " \n",
    "// Driver Program\n",
    "class Test {\n",
    "    public static void main(String[] args)\n",
    "    {\n",
    "        Student s = new Student();\n",
    "    }\n",
    "}"
   ]
  },
  {
   "cell_type": "markdown",
   "metadata": {},
   "source": [
    "* Subclass Constructor - A subclass constructor forms after extending a previous class, and using the super(); method will take a method and replicate it in the new class. \n"
   ]
  },
  {
   "cell_type": "code",
   "execution_count": 4,
   "metadata": {},
   "outputs": [
    {
     "name": "stdout",
     "output_type": "stream",
     "text": [
      "5\n"
     ]
    }
   ],
   "source": [
    "// Wrapper classes\n",
    "int x = 5;\n",
    "Integer xObj = x;\n",
    "String thing = xObj.toString();\n",
    "System.out.println(thing);"
   ]
  },
  {
   "cell_type": "markdown",
   "metadata": {},
   "source": [
    "* Wrapper Classes - Wrapper classes allow converting primitives into objects and vice versa, which allows java to be object oriented, as primitives aren’t an object by default. Changes variables into object types. \n"
   ]
  },
  {
   "cell_type": "markdown",
   "metadata": {},
   "source": [
    "* Truth tables - deines boolean function by choosing value for each possible value of arguments\n",
    "* Big O Notation - Time complexity and figuring out the most efficient way of runining code\n",
    "\n"
   ]
  }
 ],
 "metadata": {
  "kernelspec": {
   "display_name": "Java",
   "language": "java",
   "name": "java"
  },
  "language_info": {
   "codemirror_mode": "java",
   "file_extension": ".jshell",
   "mimetype": "text/x-java-source",
   "name": "java",
   "pygments_lexer": "java",
   "version": "17.0.5+8-Ubuntu-2ubuntu120.04"
  },
  "orig_nbformat": 4
 },
 "nbformat": 4,
 "nbformat_minor": 2
}
