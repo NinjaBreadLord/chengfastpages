{
 "cells": [
  {
   "cell_type": "markdown",
   "metadata": {},
   "source": [
    "# Further Vocab Unused in Lessons \n",
    "> Some Examples\n"
   ]
  },
  {
   "cell_type": "markdown",
   "metadata": {},
   "source": [
    "## Vocab\n",
    "* Subclass Constructor - A subclass constructor forms after extending a previous class, and using the super(); method will take a method and replicate it in the new class. \n",
    "* Overloading - When you use the same method name in a class each with different parameters. \n",
    "* Overriding - When a subclass has the same name and parameters as the parent class\n",
    "* Polymorphism - Multiple methods with the same name but different parameters \n",
    "* Protected classes are used when you want to access the class within the package, subclasses. Can use extends to it to access. \n",
    "* Wrapper Classes - Wrapper classes allow converting primitives into objects and vice versa, which allows java to be object oriented, as primitives aren’t an object by default\n"
   ]
  },
  {
   "cell_type": "code",
   "execution_count": 16,
   "metadata": {},
   "outputs": [
    {
     "name": "stdout",
     "output_type": "stream",
     "text": [
      "2 Organs\n"
     ]
    }
   ],
   "source": [
    "abstract class Person {\n",
    "    public void organ() {\n",
    "        System.out.println(\"3 Organs\");\n",
    "    }\n",
    "}\n",
    "\n",
    "class Joe extends Person {\n",
    "    public void organ() {\n",
    "        System.out.println(\"2 Organs\");\n",
    "    }\n",
    "}\n",
    "\n",
    "\n",
    "Joe joe = new Joe();\n",
    "joe.organ();\n"
   ]
  },
  {
   "cell_type": "markdown",
   "metadata": {},
   "source": [
    "* Abstract Class - This class’s objects and methods can be referenced, however the class itself is not initialized. \n",
    "* Inheritance/extends - takes aspects of an existing class and replicates it within another class using the extends method, simplifying code by a lot. "
   ]
  },
  {
   "cell_type": "code",
   "execution_count": 19,
   "metadata": {},
   "outputs": [
    {
     "name": "stdout",
     "output_type": "stream",
     "text": [
      "100\n",
      "100.2\n",
      "Hello\n"
     ]
    }
   ],
   "source": [
    "public class Polymorphism {\n",
    "\n",
    "\n",
    "  public void output(int x) {\n",
    "      System.out.println(x);\n",
    "  }\n",
    "\n",
    "  public void output(double x) {\n",
    "      System.out.println(x);\n",
    "  }\n",
    "  public void output(String x) {\n",
    "    System.out.println(x);\n",
    "}\n",
    "\n",
    "}\n",
    "Polymorphism polymorphism = new Polymorphism();\n",
    "\n",
    "polymorphism.output(100);\n",
    "polymorphism.output(100.2);\n",
    "polymorphism.output(\"Hello\");"
   ]
  },
  {
   "cell_type": "code",
   "execution_count": null,
   "metadata": {},
   "outputs": [],
   "source": []
  }
 ],
 "metadata": {
  "kernelspec": {
   "display_name": "Java",
   "language": "java",
   "name": "java"
  },
  "language_info": {
   "codemirror_mode": "java",
   "file_extension": ".jshell",
   "mimetype": "text/x-java-source",
   "name": "java",
   "pygments_lexer": "java",
   "version": "11.0.16+8-post-Ubuntu-0ubuntu120.04"
  },
  "orig_nbformat": 4
 },
 "nbformat": 4,
 "nbformat_minor": 2
}
