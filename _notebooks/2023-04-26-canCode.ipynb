{
 "cells": [
  {
   "attachments": {},
   "cell_type": "markdown",
   "metadata": {},
   "source": [
    "# CanCode Hacks"
   ]
  },
  {
   "cell_type": "code",
   "execution_count": 18,
   "metadata": {
    "vscode": {
     "languageId": "java"
    }
   },
   "outputs": [
    {
     "name": "stdout",
     "output_type": "stream",
     "text": [
      "Perimeter: 16 Area: 16\n",
      "16\n",
      "Is it a quadrilateral: true\n",
      "4\n"
     ]
    }
   ],
   "source": [
    "// Unit 5 Hack\n",
    "class Rectangle{\n",
    "\n",
    "    private static int area;\n",
    "    private static int perimeter;\n",
    "    private static int sides;\n",
    "\n",
    "    //public\n",
    "    public static boolean quadrilateral;\n",
    "\n",
    "    public Rectangle(int area, int perimeter, int sides){\n",
    "        this.area = area;\n",
    "        this.perimeter = perimeter;\n",
    "        this.sides = sides; \n",
    "    }\n",
    "    \n",
    "    public int getArea(){\n",
    "        return this.area; \n",
    "    }\n",
    "\n",
    "    public int getSides(){\n",
    "        if(sides == 4){\n",
    "            isQuadrilateral();\n",
    "        }\n",
    "        return sides; \n",
    "    }\n",
    "\n",
    "    public int getPerimeter(){  \n",
    "        return this.perimeter;\n",
    "    }\n",
    "\n",
    "    public static boolean isQuadrilateral(){\n",
    "        quadrilateral = true;\n",
    "        System.out.println(\"Is it a quadrilateral: \" + quadrilateral);\n",
    "        return quadrilateral;\n",
    "    }\n",
    "\n",
    "    public String toString(){\n",
    "        return (\"Perimeter: \" + this.perimeter + \" Area: \" + this.area);\n",
    "    }\n",
    "\n",
    "    public static void main(String args[]){\n",
    "        Rectangle rect = new Rectangle(16,16,4);\n",
    "        System.out.println(rect.toString());\n",
    "        System.out.println(rect.getPerimeter());\n",
    "        System.out.println(rect.getSides());\n",
    "\n",
    "    }\n",
    "}\n",
    "Rectangle.main(null);"
   ]
  },
  {
   "cell_type": "code",
   "execution_count": 24,
   "metadata": {
    "vscode": {
     "languageId": "java"
    }
   },
   "outputs": [
    {
     "name": "stdout",
     "output_type": "stream",
     "text": [
      "honk\n",
      "big car\n",
      "white 12\n",
      "pink 1000\n",
      "hi\n",
      "hello\n",
      "hi\n",
      "oink\n"
     ]
    }
   ],
   "source": [
    "//Unit 9\n",
    "\n",
    "//Hack 1\n",
    "class Vehicle {\n",
    "    public String name;\n",
    "    public Vehicle(String name){\n",
    "        this.name = name;\n",
    "    }\n",
    "    public void honk() {\n",
    "        System.out.println(\"honk\");\n",
    "    }\n",
    "    // methods and attributes\n",
    "}\n",
    "class Car extends Vehicle {\n",
    "    public Car(String name) {\n",
    "        super(name);\n",
    "    }\n",
    "    public String toString(){\n",
    "        return name;\n",
    "    }\n",
    "    public static void main(String[] args) {\n",
    "        Car car1 = new Car(\"big car\");\n",
    "        car1.honk();\n",
    "        System.out.println(car1.toString());\n",
    "    }\n",
    "}\n",
    "Car.main(null);\n",
    "\n",
    "\n",
    "//Hack 2\n",
    "public class animal {\n",
    "    public String color;\n",
    "    public animal(String color){\n",
    "        this.color = color;\n",
    "    }\n",
    "    public void talk() {\n",
    "        System.out.println(\"hi\");\n",
    "    }\n",
    "}\n",
    "public class rabbit extends animal{\n",
    "    public int height;\n",
    "    public rabbit(String color, int height) {\n",
    "        super(color);\n",
    "        this.height = height;\n",
    "    }\n",
    "    public void talk(){\n",
    "        super.talk();\n",
    "        System.out.println(\"hello\");\n",
    "    }\n",
    "    public String toString() {\n",
    "        return color + \" \" + height;\n",
    "    }\n",
    "}\n",
    "public class pig extends animal {\n",
    "    public int weight;\n",
    "    public pig(String color, int weight) {\n",
    "        super(color);\n",
    "        this.weight = weight;\n",
    "    }\n",
    "    public void talk(){\n",
    "        super.talk();\n",
    "        System.out.println(\"oink\");\n",
    "    }\n",
    "    public String toString(){\n",
    "        return color + \" \" + weight;\n",
    "    }\n",
    "}\n",
    "public class Main {\n",
    "    public static void main(String[] args) {\n",
    "        rabbit rabbit1 = new rabbit(\"white\", 12);\n",
    "        pig pig1 = new pig(\"pink\", 1000);\n",
    "        System.out.println(rabbit1.toString());\n",
    "        System.out.println(pig1.toString());\n",
    "        rabbit1.talk();\n",
    "        pig1.talk();\n",
    "    }\n",
    "}\n",
    "Main.main(null);"
   ]
  },
  {
   "cell_type": "code",
   "execution_count": 22,
   "metadata": {
    "vscode": {
     "languageId": "java"
    }
   },
   "outputs": [
    {
     "name": "stdout",
     "output_type": "stream",
     "text": [
      "Fibonacci of 10: 55\n"
     ]
    }
   ],
   "source": [
    "// Unit 10 Hacks\n",
    "public class Fibonacci{\n",
    "    public static int fibonacci(int n){\n",
    "        if(n == 0){\n",
    "            return 0;\n",
    "        }\n",
    "        else if(n == 1){\n",
    "            return 1;\n",
    "        }\n",
    "        else{\n",
    "            return fibonacci(n-1) + fibonacci(n-2);\n",
    "        }\n",
    "    }\n",
    "    public static void main(String args[]){\n",
    "        System.out.println(\"Fibonacci of 10: \" + fibonacci(10));\n",
    "    }\n",
    "}\n",
    "Fibonacci.main(null);"
   ]
  }
 ],
 "metadata": {
  "kernelspec": {
   "display_name": "Java",
   "language": "java",
   "name": "java"
  },
  "language_info": {
   "codemirror_mode": "java",
   "file_extension": ".jshell",
   "mimetype": "text/x-java-source",
   "name": "Java",
   "pygments_lexer": "java",
   "version": "17.0.5+8-Ubuntu-2ubuntu120.04"
  },
  "orig_nbformat": 4
 },
 "nbformat": 4,
 "nbformat_minor": 2
}
