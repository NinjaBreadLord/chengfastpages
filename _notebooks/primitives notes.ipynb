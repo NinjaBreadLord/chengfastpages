{
 "cells": [
  {
   "cell_type": "markdown",
   "metadata": {},
   "source": [
    "# 2022-08-23 Primitive Notes\n",
    ">Info taken from https://nighthawkcoders.github.io/APCSA/unit/1"
   ]
  },
  {
   "cell_type": "markdown",
   "metadata": {},
   "source": [
    "## Primitives\n",
    "- Basica bread and butter variable types(ie: String, int, etc.)\n"
   ]
  },
  {
   "cell_type": "markdown",
   "metadata": {},
   "source": [
    "## Wrapper Classes\n",
    "- Wrappers usually uppercase in defining variable\n",
    "- Most in Java is OOP exclude primitives "
   ]
  },
  {
   "cell_type": "markdown",
   "metadata": {},
   "source": [
    "Hacks down below "
   ]
  },
  {
   "cell_type": "code",
   "execution_count": 6,
   "metadata": {
    "vscode": {
     "languageId": "java"
    }
   },
   "outputs": [
    {
     "name": "stdout",
     "output_type": "stream",
     "text": [
      "Hello:"
     ]
    }
   ],
   "source": [
    "//import java util all  \n",
    "import java.util.Scanner;\n",
    "\n",
    "class Main{\n",
    "    public static void main(String[] args){\n",
    "        int myInteger = 10;\n",
    "        boolean myBoolean = true;\n",
    "        String myString = \"Hello\";\n",
    "        double myDouble = 5.0;\n",
    "\n",
    "        //scanner for input\n",
    "        Scanner input = new Scanner(System.in);\n",
    "        System.out.print(\"Hello:\");\n",
    "    }\n",
    "}\n",
    "Main.main(null);"
   ]
  }
 ],
 "metadata": {
  "kernelspec": {
   "display_name": "Java",
   "language": "java",
   "name": "java"
  },
  "language_info": {
   "codemirror_mode": "java",
   "file_extension": ".jshell",
   "mimetype": "text/x-java-source",
   "name": "Java",
   "pygments_lexer": "java",
   "version": "11.0.16+8-post-Ubuntu-0ubuntu120.04"
  },
  "orig_nbformat": 4
 },
 "nbformat": 4,
 "nbformat_minor": 2
}
