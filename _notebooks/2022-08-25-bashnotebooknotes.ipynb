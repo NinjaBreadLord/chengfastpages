{
 "cells": [
  {
   "cell_type": "markdown",
   "metadata": {},
   "source": [
    "# 2022-08-25 Bash Notes\n",
    "\n",
    "- toc: false\n",
    "- badges: true\n",
    "- comments: true\n",
    "- categories: [APCSA]\n",
    "\n",
    ">Info taken from https://nighthawkcoders.github.io/APCSA/techtalk/bash"
   ]
  },
  {
   "cell_type": "markdown",
   "metadata": {},
   "source": [
    "## Installlation\n",
    "- pip install bash_kernel\n",
    "- python -m bash_kernel.install"
   ]
  },
  {
   "cell_type": "code",
   "execution_count": 40,
   "metadata": {
    "vscode": {
     "languageId": "shellscript"
    }
   },
   "outputs": [
    {
     "name": "stdout",
     "output_type": "stream",
     "text": [
      "Using conditional statement to create a project directory and project\n",
      "Directory /home/everittcheng/vscode exists.\n",
      "Directory /home/everittcheng/vscode/APCSA exists.\n"
     ]
    }
   ],
   "source": [
    "echo \"Using conditional statement to create a project directory and project\"\n",
    "\n",
    "# Variable section\n",
    "export project_dir=$HOME/vscode  # change vscode to different name to test git clone\n",
    "export project=$project_dir/APCSA  # change APCSP to name of project from git clone\n",
    "export project_repo=\"https://github.com/nighthawkcoders/APCSA.git\"  # change to project of choice\n",
    "\n",
    "cd ~    # start in home directory\n",
    "\n",
    "# Conditional block to make a project directory\n",
    "if [ ! -d $project_dir ]\n",
    "then \n",
    "    echo \"Directory $project_dir does not exists... makinng directory $project_dir\"\n",
    "    mkdir -p $project_dir\n",
    "fi\n",
    "echo \"Directory $project_dir exists.\" \n",
    "\n",
    "# Conditional block to git clone a project from project_repo\n",
    "if [ ! -d $project ]\n",
    "then\n",
    "    echo \"Directory $project does not exists... cloning $project_repo\"\n",
    "    cd $project_dir\n",
    "    git clone $project_repo\n",
    "    cd ~\n",
    "fi\n",
    "echo \"Directory $project exists.\""
   ]
  },
  {
   "cell_type": "markdown",
   "metadata": {},
   "source": [
    "- \"cat\" command shows you text from inside the file\n",
    "- \"env\" shows enviroment \n",
    "- \".git\" hidden file that keeps track of your merges, basically keeps your machine and the github cloud server in check to see when files need to change "
   ]
  },
  {
   "cell_type": "markdown",
   "metadata": {},
   "source": [
    "## Hacks\n",
    "> Verifying installed tools "
   ]
  },
  {
   "cell_type": "markdown",
   "metadata": {},
   "source": [
    "### Anaconda to verify that google exists"
   ]
  },
  {
   "cell_type": "code",
   "execution_count": 35,
   "metadata": {
    "vscode": {
     "languageId": "shellscript"
    }
   },
   "outputs": [
    {
     "name": "stdout",
     "output_type": "stream",
     "text": [
      "Conda Check\n",
      "google-api-core           1.25.1             pyhd3eb1b0_0  \n",
      "google-auth               1.33.0             pyhd3eb1b0_0  \n",
      "google-cloud-core         1.7.1              pyhd3eb1b0_0  \n",
      "google-cloud-storage      1.31.0                     py_0  \n",
      "google-crc32c             1.1.2            py39h27cfd23_0  \n",
      "google-resumable-media    1.3.1              pyhd3eb1b0_1  \n",
      "googleapis-common-protos  1.53.0           py39h06a4308_0  \n"
     ]
    }
   ],
   "source": [
    "export PATH=~/anaconda3/bin:$PATH\n",
    "# conda not found without this command\n",
    "\n",
    "echo Conda Check\n",
    "# test for a kernel installation\n",
    "test=\"google\" # keyword\n",
    "check=`conda list | grep $test` # run command\n",
    "n=${#check} # determine length\n",
    "\n",
    "if [[ ${n} > 0 ]];  # testt length\n",
    "then # greater than zero\n",
    "    echo \"$check\"\n",
    "else # less than zero\n",
    "    echo \"$test not found\"\n",
    "fi"
   ]
  },
  {
   "cell_type": "markdown",
   "metadata": {},
   "source": [
    "### Check if I have bash"
   ]
  },
  {
   "cell_type": "code",
   "execution_count": 36,
   "metadata": {
    "vscode": {
     "languageId": "shellscript"
    }
   },
   "outputs": [
    {
     "name": "stdout",
     "output_type": "stream",
     "text": [
      "  bash          /home/everittcheng/.local/share/jupyter/kernels/bash\n"
     ]
    }
   ],
   "source": [
    "#Bash check lol\n",
    "test=\"bash\" # keyword\n",
    "check=`jupyter kernelspec list | grep $test` # run command\n",
    "n=${#check} # determine length\n",
    "\n",
    "if [[ ${n} > 0 ]];  # testt length\n",
    "then # greater than zero\n",
    "    echo \"$check\"\n",
    "else # less than zero\n",
    "    echo \"$test not found\"\n",
    "fi"
   ]
  },
  {
   "cell_type": "markdown",
   "metadata": {},
   "source": [
    "### Check for python"
   ]
  },
  {
   "cell_type": "code",
   "execution_count": 37,
   "metadata": {
    "vscode": {
     "languageId": "shellscript"
    }
   },
   "outputs": [
    {
     "name": "stdout",
     "output_type": "stream",
     "text": [
      "  python3       /home/everittcheng/.local/share/jupyter/kernels/python3\n"
     ]
    }
   ],
   "source": [
    "#Check for python\n",
    "test=\"python3\" # keyword\n",
    "check=`jupyter kernelspec list | grep $test` # run command\n",
    "n=${#check} # determine length\n",
    "\n",
    "if [[ ${n} > 0 ]];  # testt length\n",
    "then # greater than zero\n",
    "    echo \"$check\"\n",
    "else # less than zero\n",
    "    echo \"$test not found\"\n",
    "fi"
   ]
  },
  {
   "cell_type": "markdown",
   "metadata": {},
   "source": [
    "### Update repository"
   ]
  },
  {
   "cell_type": "code",
   "execution_count": 43,
   "metadata": {
    "vscode": {
     "languageId": "shellscript"
    }
   },
   "outputs": [
    {
     "name": "stdout",
     "output_type": "stream",
     "text": [
      "Updating..............\n",
      "Already up to date.\n"
     ]
    }
   ],
   "source": [
    "# Update repo\n",
    "cd $project\n",
    "echo \"Updating..............\"\n",
    "git pull "
   ]
  }
 ],
 "metadata": {
  "kernelspec": {
   "display_name": "Python 3.8.10 64-bit",
   "language": "python",
   "name": "python3"
  },
  "language_info": {
   "codemirror_mode": "shell",
   "file_extension": ".sh",
   "mimetype": "text/x-sh",
   "name": "python",
   "version": "3.8.10"
  },
  "orig_nbformat": 4,
  "vscode": {
   "interpreter": {
    "hash": "916dbcbb3f70747c44a77c7bcd40155683ae19c65e1c03b4aa3499c5328201f1"
   }
  }
 },
 "nbformat": 4,
 "nbformat_minor": 2
}
