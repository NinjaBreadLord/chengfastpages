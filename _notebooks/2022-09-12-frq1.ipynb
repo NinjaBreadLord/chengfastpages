{
 "cells": [
  {
   "cell_type": "markdown",
   "metadata": {},
   "source": [
    "# Free Response Question 1\n",
    "> 2015 FRQ #1"
   ]
  },
  {
   "cell_type": "markdown",
   "metadata": {},
   "source": [
    "### a) Write a static method arraySum that calculates and returns the sum of the entries in a specified\n",
    "one-dimensional array. The following example shows an array arr1 and the value returned by a call to\n",
    "arraySum."
   ]
  },
  {
   "cell_type": "code",
   "execution_count": 1,
   "metadata": {},
   "outputs": [
    {
     "name": "stdout",
     "output_type": "stream",
     "text": [
      "19"
     ]
    }
   ],
   "source": [
    "class DiverseArray{\n",
    "    public static int arraySum(int[] array){\n",
    "        int sum = 0;\n",
    "        for(int i = 0; i < array.length; i++){\n",
    "            sum = sum + array[i];\n",
    "        }\n",
    "        return sum;\n",
    "    }\n",
    "    public static void main(String[] args){\n",
    "        int[] fram = {1,3,4,5,6};\n",
    "        int x= arraySum(fram);\n",
    "        System.out.print(x);\n",
    "    }\n",
    "}\n",
    "DiverseArray.main(null);"
   ]
  },
  {
   "cell_type": "markdown",
   "metadata": {},
   "source": [
    "### Write a static method rowSums that calculates the sums of each of the rows in a given twodimensional array and returns these sums in a one-dimensional array. The method has one parameter, a twodimensional array arr2D of int values. The array is in row-major order: arr2D[r][c] is the entry at row r and column c. The method returns a one-dimensional array with one entry for each row of arr2D such that each entry is the sum of the corresponding row in arr2D. As a reminder, each row of a two-dimensional array is a one-dimensional array.For example, if mat1 is the array represented by the following table, the call rowSums(mat1) returns the array {16, 32, 28, 20}."
   ]
  },
  {
   "cell_type": "code",
   "execution_count": 2,
   "metadata": {},
   "outputs": [
    {
     "name": "stdout",
     "output_type": "stream",
     "text": [
      "6, 10, 6, "
     ]
    }
   ],
   "source": [
    "class DiverseArray2{\n",
    "    public static int arraySum(int[] array){\n",
    "        int sum = 0;\n",
    "        for(int i = 0; i < array.length; i++){\n",
    "            sum = sum + array[i];\n",
    "        }\n",
    "        return sum;\n",
    "    }\n",
    "    public static int[] rowSums(int[][] array){\n",
    "        int[] sum = new int[array.length];\n",
    "        for(int g = 0; g < array.length; g++){\n",
    "            int sum1 = arraySum(array[g]);\n",
    "            sum[g] = (sum1);\n",
    "        }\n",
    "        return sum;\n",
    "    }\n",
    "    public static void main(String[] args){\n",
    "        int[][] fram = new int[][] {\n",
    "            {1,2,3},\n",
    "            {1,2,3,4},\n",
    "            {3,2,1,0}\n",
    "        };\n",
    "        int[] x = rowSums(fram);\n",
    "        for(int j = 0;j < x.length; j++){\n",
    "            System.out.print(x[j] + \", \");\n",
    "        }\n",
    "    }\n",
    "}\n",
    "DiverseArray2.main(null);"
   ]
  },
  {
   "cell_type": "markdown",
   "metadata": {},
   "source": [
    "### c) A two-dimensional array is diverse if no two of its rows have entries that sum to the same value. In the following examples, the array mat1 is diverse because each row sum is different, but the array mat2 is not diverse because the first and last rows have the same sum"
   ]
  },
  {
   "cell_type": "code",
   "execution_count": 16,
   "metadata": {},
   "outputs": [
    {
     "name": "stdout",
     "output_type": "stream",
     "text": [
      "is false\n",
      "is true\n"
     ]
    }
   ],
   "source": [
    "class DiverseArray3{\n",
    "    public static int arraySum(int[] array){\n",
    "        int sum = 0;\n",
    "        for(int i = 0; i < array.length; i++){\n",
    "            sum = sum + array[i];\n",
    "        }\n",
    "        return sum;\n",
    "    }\n",
    "    public static int[] rowSums(int[][] array){\n",
    "        int[] sum = new int[array.length];\n",
    "        for(int g = 0; g < array.length; g++){\n",
    "            int sum1 = arraySum(array[g]);\n",
    "            sum[g] = (sum1);\n",
    "        }\n",
    "        return sum;\n",
    "    }\n",
    "    public static boolean isDiverse(int[][] arr2d){\n",
    "        boolean isDiverse = true;\n",
    "        int[] cheese = rowSums(arr2d);\n",
    "        for (int i = 0; i < cheese.length; i++) {\n",
    "            int burger = cheese[i];\n",
    "            for (int j = i + 1; j < cheese.length; j++) {\n",
    "                if (burger == cheese[j]) {\n",
    "                    isDiverse = false;\n",
    "                }\n",
    "            }\n",
    "        }\n",
    "        return isDiverse;\n",
    "    }\n",
    "    public static void main(String[] args){\n",
    "        int[][] fram = new int[][] {\n",
    "            {1,2,3},\n",
    "            {1,2,3},\n",
    "            {3,2,1,0}\n",
    "        };\n",
    "        System.out.println(\"is \" + isDiverse(fram));\n",
    "        int[][] fram2 = new int[][] {\n",
    "            {1,2,3},\n",
    "            {1,2,3,4,5},\n",
    "            {5,5,5,5}\n",
    "        };\n",
    "        System.out.println(\"is \" + isDiverse(fram2));\n",
    "    }\n",
    "}\n",
    "DiverseArray3.main(null);"
   ]
  }
 ],
 "metadata": {
  "kernelspec": {
   "display_name": "Java",
   "language": "java",
   "name": "java"
  },
  "language_info": {
   "name": "java"
  },
  "orig_nbformat": 4
 },
 "nbformat": 4,
 "nbformat_minor": 2
}
