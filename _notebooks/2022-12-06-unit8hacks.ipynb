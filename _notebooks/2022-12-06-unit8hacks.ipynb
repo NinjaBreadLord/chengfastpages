{
 "cells": [
  {
   "cell_type": "markdown",
   "metadata": {},
   "source": [
    "# Unit 8 - 2D Arrays"
   ]
  },
  {
   "cell_type": "markdown",
   "metadata": {},
   "source": [
    "## Vocab\n",
    "* Array = a data structure used to implement a collection (list) of primitive or object reference data\n",
    "* Element = a single value in the array\n",
    "* Index = the position of the element in the array (starts from 0)\n",
    "* Array Length = the number of elements in the array\n",
    "    * Is public, so can be accessed in any class\n",
    "    * Is also final, so can’t change it after array has been created\n",
    "\n",
    "## 2D Arrays\n",
    "* A 2D array is an array of arrays, and can be a better way to store data\n"
   ]
  }
 ],
 "metadata": {
  "kernelspec": {
   "display_name": "Java",
   "language": "java",
   "name": "java"
  },
  "language_info": {
   "name": "java"
  },
  "orig_nbformat": 4
 },
 "nbformat": 4,
 "nbformat_minor": 2
}
