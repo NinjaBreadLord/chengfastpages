{
 "cells": [
  {
   "attachments": {},
   "cell_type": "markdown",
   "metadata": {},
   "source": [
    "# 2015 FRQ"
   ]
  },
  {
   "cell_type": "code",
   "execution_count": 13,
   "metadata": {},
   "outputs": [
    {
     "ename": "CompilationException",
     "evalue": "",
     "output_type": "error",
     "traceback": [
      "\u001b[1m\u001b[30m|   \u001b[1m\u001b[30m    public static int\u001b[0m\u001b[1m\u001b[30m\u001b[41m\u001b[0m\u001b[1m\u001b[30m 2darraySum(int[][] array){\u001b[0m",
      "\u001b[1m\u001b[31m<identifier> expected\u001b[0m",
      "",
      "\u001b[1m\u001b[30m|   \u001b[1m\u001b[30m    public static int 2d\u001b[0m\u001b[1m\u001b[30m\u001b[41m\u001b[0m\u001b[1m\u001b[30marraySum(int[][] array){\u001b[0m",
      "\u001b[1m\u001b[31minvalid method declaration; return type required\u001b[0m",
      ""
     ]
    }
   ],
   "source": [
    "//1.\n",
    "class frq1{\n",
    "\n",
    "    public static int 2darraySum(int[][] array){\n",
    "        int sum = 0;\n",
    "        for(int row = 0; row < array.length; row++){\n",
    "            for(int column = 0; column < array[row].length; column++){\n",
    "                sum += array[row][column];\n",
    "            }\n",
    "        }\n",
    "        return sum;\n",
    "    }\n",
    "\n",
    "    public static int arraySum(int[] array){\n",
    "        int sum = 0;\n",
    "        for(int i = 0; i < array.length; i++){\n",
    "            sum += array[i];\n",
    "        }\n",
    "        return sum;\n",
    "    }\n",
    "\n",
    "    public static void isDiverse(){\n",
    "        \n",
    "    }\n",
    "\n",
    "    public static void main(String args[]){\n",
    "        int[] jesus2 = {1,2,3};\n",
    "        int[][] jesus = {{1,2,3},{3,3,4},{4,4,4}};\n",
    "        System.out.println(arraySum(jesus2));\n",
    "    }\n",
    "}\n",
    "frq1.main(null);"
   ]
  }
 ],
 "metadata": {
  "kernelspec": {
   "display_name": "Java",
   "language": "java",
   "name": "java"
  },
  "language_info": {
   "codemirror_mode": "java",
   "file_extension": ".jshell",
   "mimetype": "text/x-java-source",
   "name": "java",
   "pygments_lexer": "java",
   "version": "17.0.5+8-Ubuntu-2ubuntu120.04"
  },
  "orig_nbformat": 4
 },
 "nbformat": 4,
 "nbformat_minor": 2
}
