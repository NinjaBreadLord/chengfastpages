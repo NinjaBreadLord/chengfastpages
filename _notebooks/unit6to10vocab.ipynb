{
 "cells": [
  {
   "attachments": {},
   "cell_type": "markdown",
   "metadata": {},
   "source": [
    "# Units 6 - 10\n"
   ]
  },
  {
   "cell_type": "code",
   "execution_count": 1,
   "metadata": {},
   "outputs": [
    {
     "name": "stdout",
     "output_type": "stream",
     "text": [
      "0\n"
     ]
    }
   ],
   "source": [
    "// Unit 7\n",
    "import java.util.*;\n",
    "\n",
    "public class hack1{\n",
    "    public static void main (String[] args){\n",
    "        ArrayList<String> cool = new ArrayList();\n",
    "        System.out.println(cool.size());\n",
    "    }\n",
    "}\n",
    "hack1.main(null);"
   ]
  },
  {
   "cell_type": "code",
   "execution_count": 2,
   "metadata": {},
   "outputs": [
    {
     "name": "stdout",
     "output_type": "stream",
     "text": [
      "[green box, blue water]\n"
     ]
    }
   ],
   "source": [
    "\n",
    "import java.util.*;\n",
    "\n",
    "ArrayList<String> color = new ArrayList();\n",
    "color.add(\"red apple\");\n",
    "color.add(\"green box\");\n",
    "color.add(\"blue water\");\n",
    "color.add(\"red panda\");\n",
    "\n",
    "for(int i = 0; i <= color.size(); i++){\n",
    "    if(color.get(i).contains(\"red\")){\n",
    "        color.remove(i);\n",
    "\n",
    "    }\n",
    "}\n",
    "System.out.println(color)"
   ]
  },
  {
   "attachments": {},
   "cell_type": "markdown",
   "metadata": {},
   "source": [
    "## Unit 7 Vocab\n",
    "\n",
    "* Array List - Similar to an array, however the length of the list can be modified when need be\n",
    "    * Can iterate through it similar to an array, however putting and removing items are different syntax"
   ]
  },
  {
   "cell_type": "code",
   "execution_count": 3,
   "metadata": {},
   "outputs": [
    {
     "name": "stdout",
     "output_type": "stream",
     "text": [
      "Cincinnati\n",
      "Use nested for loops to find the longest or shortest string!\n"
     ]
    }
   ],
   "source": [
    "public class Test {\n",
    "\n",
    "    public static void main(String[] args) {\n",
    "  \n",
    "        String[][] arr = { // two indexes, to help store data in a 2D model\n",
    "            { \"Atlanta\", \"Baltimore\", \"Chicago\" },\n",
    "            { \"Australia\", \"Boston\", \"Cincinnati\" },\n",
    "            { \"Austin\", \"Beaumont\", \"Columbus\" }\n",
    "        };\n",
    "\n",
    "        String longest = arr[0][0]; //defining the longest array at the moment\n",
    "\n",
    "        for(int row = 0; row < arr.length; row++) { //incrementing through each part to find largest string\n",
    "            for(int column = 0; column < arr[row].length; column++) {\n",
    "                if (arr[row][column].length() > longest.length()) {\n",
    "                    longest = arr[row][column];\n",
    "                }\n",
    "            }\n",
    "         }\n",
    "\n",
    "        System.out.println(longest); \n",
    "\n",
    "        // Use nested for loops to find the longest or shortest string!\n",
    "        System.out.println(\"Use nested for loops to find the longest or shortest string!\");\n",
    "        \n",
    "    }\n",
    "\n",
    " }\n",
    "Test.main(null);"
   ]
  },
  {
   "attachments": {},
   "cell_type": "markdown",
   "metadata": {},
   "source": [
    "## Unit 8 Vocab\n",
    "\n",
    "* Usage of a nested for loop to iterate through a 2D Array, through each \"cell\"\n",
    "\n",
    "* Declared with two brackets next to name"
   ]
  },
  {
   "cell_type": "code",
   "execution_count": 4,
   "metadata": {},
   "outputs": [],
   "source": [
    "public class Animal {\n",
    "    protected double mass;\n",
    "    protected double lifespan;\n",
    "    public Animal(double mass, double lifespan) {\n",
    "        this.mass = mass;\n",
    "        this.lifespan = lifespan;\n",
    "    }\n",
    "    public void sound() {\n",
    "        System.out.println(\"sound\");\n",
    "    }\n",
    "\n",
    "    public void die(boolean a) {\n",
    "        System.out.println(\"the cat is dead: \" + a); //method to be overloaded\n",
    "    }\n",
    "    public class Dog extends Animal {\n",
    "    \n",
    "        protected String color; \n",
    "        \n",
    "        public Dog(double mass, double lifespan, String color) {\n",
    "            super(mass, lifespan);\n",
    "            this.color = color;\n",
    "        }\n",
    "        @Override\n",
    "        public void sound() {\n",
    "            System.out.println(\"woof\");\n",
    "        }\n",
    "    }\n",
    "    public class Cat extends Animal { //make  another subclass for Cat that extends off of Animal \n",
    "    \n",
    "        protected String breed; \n",
    "        \n",
    "        public Cat(double mass, double lifespan, String breed) {\n",
    "            super(mass, lifespan);\n",
    "            this.breed = breed;\n",
    "        }\n",
    "        @Override\n",
    "        public void sound() { //overrides the sound\n",
    "            System.out.println(\"meow\");\n",
    "        }\n",
    "\n",
    "        public void die(boolean a, boolean b) { //method overloading\n",
    "            System.out.println(\"the cat is dead: \" + a + b);\n",
    "        }\n",
    "    }\n",
    "}"
   ]
  },
  {
   "attachments": {},
   "cell_type": "markdown",
   "metadata": {},
   "source": [
    "## Unit 9 Vocab \n",
    "\n",
    "* Inheritance/extends takes aspects of an existing class and replicates it within another class using the extends method, simplifying code by a lot. \n",
    "* Subclass/Super -  A subclass constructor forms after extending a previous class, and using the super(); method will take a method and replicate it in the new class. \n",
    "* Overloading - When you use the same method name in a class each with different parameters. \n",
    "* Override - When a subclass has the same name and parameters as the parent class\n",
    "* Polymorphism - any of overloading, overriding, late bindingMultiple methods with the same name but different parameters \n"
   ]
  },
  {
   "attachments": {},
   "cell_type": "markdown",
   "metadata": {},
   "source": [
    "## No code for lesson 10\n",
    "\n",
    "* Recursion - method calling itself again, similar to a loop\n",
    "* Base case - the condition passed that is needed to be reached to end the loop\n",
    "* Binary search - Split the array in half and then continue doing so until the value is found\n",
    "* Selection - finds minimum element from unsorted part and puts it at end of sorted part\n",
    "* Merge - splits array into 2, calls it self into two sorted halves, and then merges all the havles back into arrayList\n"
   ]
  }
 ],
 "metadata": {
  "kernelspec": {
   "display_name": "Java",
   "language": "java",
   "name": "java"
  },
  "language_info": {
   "codemirror_mode": "java",
   "file_extension": ".jshell",
   "mimetype": "text/x-java-source",
   "name": "java",
   "pygments_lexer": "java",
   "version": "17.0.5+8-Ubuntu-2ubuntu120.04"
  },
  "orig_nbformat": 4
 },
 "nbformat": 4,
 "nbformat_minor": 2
}
