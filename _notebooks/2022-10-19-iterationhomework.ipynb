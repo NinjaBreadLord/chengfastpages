{
 "cells": [
  {
   "cell_type": "markdown",
   "metadata": {},
   "source": [
    "# Iteration Assignment from Peer Presentation\n",
    "2. Write a program where a random number is generated. Then the user tries to guess the number. If they guess too high display something to let them know, and same for if they guess a number that is too low. The loop must iterate until the number is guessed correctly.\n"
   ]
  },
  {
   "cell_type": "code",
   "execution_count": 4,
   "metadata": {},
   "outputs": [
    {
     "name": "stdout",
     "output_type": "stream",
     "text": [
      "Guess a number from 1 to 100\n",
      "Too Low\n",
      "Guess a number in range 1 to 100\n",
      "Too Low\n",
      "Guess a number in range 1 to 100\n",
      "Too high\n",
      "Guess a number in range 1 to 100\n",
      "Too high\n",
      "Guess a number in range 1 to 100\n",
      "nice\n",
      "You guessed: 4 times\n"
     ]
    }
   ],
   "source": [
    "import java.util.*;\n",
    "class Main{\n",
    "    public static int GuessGame(){\n",
    "        int randomint = (int)(Math.random()*(100-1+1)+1);  \n",
    "        Scanner scan = new Scanner(System.in);\n",
    "        System.out.println(\"Guess a number from 1 to 100\");\n",
    "        int guess = scan.nextInt();\n",
    "        int count = 0; \n",
    "        while(guess != randomint){\n",
    "            if(guess > randomint && guess <= 100){\n",
    "                System.out.println(\"Too high\");\n",
    "                System.out.println(\"Guess a number in range 1 to 100\");\n",
    "                count++;\n",
    "                guess = scan.nextInt();\n",
    "            }else if(guess < randomint && guess >= 1){\n",
    "                System.out.println(\"Too Low\");\n",
    "                System.out.println(\"Guess a number in range 1 to 100\");\n",
    "                count++;\n",
    "                guess = scan.nextInt();\n",
    "            }else{\n",
    "                System.out.println(\"Number outside predefined range\");\n",
    "                System.out.println(\"Guess a number in range 1 to 100\");\n",
    "                guess = scan.nextInt();\n",
    "\n",
    "            }\n",
    "        }\n",
    "        System.out.println(\"nice\");\n",
    "        return(count);\n",
    "    }\n",
    "    public static void main(String[] args){\n",
    "        System.out.println(\"You guessed: \" + GuessGame() + \" times\");\n",
    "    }\n",
    "}\n",
    "Main.main(null);"
   ]
  }
 ],
 "metadata": {
  "kernelspec": {
   "display_name": "Java",
   "language": "java",
   "name": "java"
  },
  "language_info": {
   "codemirror_mode": "java",
   "file_extension": ".jshell",
   "mimetype": "text/x-java-source",
   "name": "java",
   "pygments_lexer": "java",
   "version": "11.0.16+8-post-Ubuntu-0ubuntu120.04"
  },
  "orig_nbformat": 4
 },
 "nbformat": 4,
 "nbformat_minor": 2
}
