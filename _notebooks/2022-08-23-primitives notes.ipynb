{
 "cells": [
  {
   "cell_type": "markdown",
   "metadata": {},
   "source": [
    "# 2022-08-23 Primitive Notes\n",
    "\n",
    "- toc: false\n",
    "- badges: true\n",
    "- comments: true\n",
    "- categories: [APCSA]\n",
    "\n",
    ">Info taken from https://nighthawkcoders.github.io/APCSA/unit/1"
   ]
  },
  {
   "cell_type": "markdown",
   "metadata": {},
   "source": [
    "## Primitives\n",
    "- Basica bread and butter variable types(ie: String, int, etc.)\n"
   ]
  },
  {
   "cell_type": "markdown",
   "metadata": {},
   "source": [
    "## Wrapper Classes\n",
    "- Wrappers usually uppercase in defining variable\n",
    "- Most in Java is OOP exclude primitives "
   ]
  },
  {
   "cell_type": "markdown",
   "metadata": {},
   "source": [
    "## Hacks"
   ]
  },
  {
   "cell_type": "code",
   "execution_count": 1,
   "metadata": {},
   "outputs": [
    {
     "name": "stdout",
     "output_type": "stream",
     "text": [
      "Enter an integer for joe: \n",
      "Enter a integer for joey: \n",
      "I want to add joe and joey\n",
      "Do I add joe and joey(True/False): \n",
      "Hello I am Joseph, if I add joe(12) and joey(123) it gets me 135.0\n"
     ]
    }
   ],
   "source": [
    "import java.util.*;\n",
    "\n",
    "public class SimpleCalculator {\n",
    "    public static void main(String[] args) {   \n",
    "        Scanner input1 = new Scanner(System.in);\n",
    "        System.out.println(\"Enter an integer for joe: \");\n",
    "        int joe = input1.nextInt();\n",
    "        input1.close();\n",
    "\n",
    "        Scanner input2 = new Scanner(System.in);\n",
    "        System.out.println(\"Enter a integer for joey: \");\n",
    "        int joey = input2.nextInt();\n",
    "        input2.close();\n",
    "\n",
    "        double amogus = (double) joe + joey;\n",
    "\n",
    "        String joseph = \"Hello I am Joseph\";\n",
    "\n",
    "        System.out.println(\"I want to add joe and joey\");\n",
    "\n",
    "        Scanner input3 = new Scanner(System.in);\n",
    "        System.out.println(\"Do I add joe and joey(True/False): \");\n",
    "        boolean joel = input3.nextBoolean();\n",
    "        if(joel){\n",
    "            System.out.println(joseph + \", if I add joe(\" + joe + \") and joey(\" + joey + \") it gets me \" + amogus);\n",
    "        }else{\n",
    "            System.out.println(\"I guess joe and joey will never meet. The name's Joseph by the way\");\n",
    "        }\n",
    "\n",
    "    }\n",
    "}\n",
    "SimpleCalculator.main(null);"
   ]
  },
  {
   "cell_type": "markdown",
   "metadata": {},
   "source": [
    "## Seconds to Fortnight Converter"
   ]
  },
  {
   "cell_type": "code",
   "execution_count": 8,
   "metadata": {},
   "outputs": [
    {
     "name": "stdout",
     "output_type": "stream",
     "text": [
      "How many fortnights?: \n",
      "1.0 fortnight in seconds is: 1209600.0\n"
     ]
    }
   ],
   "source": [
    "import java.util.*;\n",
    "\n",
    "public class main{\n",
    "    public static double fortnightConverter(double fortnight) {\n",
    "        double days = fortnight*14;\n",
    "        double seconds = days * 86400;\n",
    "        return seconds;\n",
    "    }\n",
    "\n",
    "    public static void main(String[] args){\n",
    "        Scanner input = new Scanner(System.in);\n",
    "\n",
    "        System.out.println(\"How many fortnights?: \");\n",
    "        double fortnight = input.nextDouble();\n",
    "        System.out.println(fortnight + \" fortnight in seconds is: \" + fortnightConverter(fortnight));\n",
    "        \n",
    "    }\n",
    "}\n",
    "\n",
    "main.main(null);\n"
   ]
  }
 ],
 "metadata": {
  "kernelspec": {
   "display_name": "Java",
   "language": "java",
   "name": "java"
  },
  "language_info": {
   "codemirror_mode": "java",
   "file_extension": ".jshell",
   "mimetype": "text/x-java-source",
   "name": "java",
   "pygments_lexer": "java",
   "version": "11.0.16+8-post-Ubuntu-0ubuntu120.04"
  },
  "orig_nbformat": 4
 },
 "nbformat": 4,
 "nbformat_minor": 2
}
