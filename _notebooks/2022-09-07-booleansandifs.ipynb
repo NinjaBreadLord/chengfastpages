{
 "cells": [
  {
   "cell_type": "markdown",
   "metadata": {},
   "source": [
    "# 2022-09-07 Booleans and Ifs\n",
    "- toc:false\n",
    "- badges: true\n",
    "- comments: true\n",
    "- categories: [APCSA]\n",
    "\n",
    "> Hacks and notes regarding conditionals"
   ]
  },
  {
   "cell_type": "markdown",
   "metadata": {},
   "source": [
    "### Notes on Conditionals\n",
    "- De Morgan's law - opposite of everything in the statement\n",
    "- Example:\n",
    "```\n",
    " if (!((false || !true) || (false && true))) {\n",
    "```\n",
    "- When there are too many conditions in the if statement itself, then it becomes poor code\n",
    "- &&, ||, ! - And, or, and Not symbols respectively"
   ]
  },
  {
   "cell_type": "markdown",
   "metadata": {},
   "source": [
    "### Hacks\n",
    "- **if** is the simple statement with a conditional within it, if this condition is met, the code inside is run\n",
    "- **if-else** a second conditional statement on top of the already existing if\n",
    "- **if-else if-else** are multiple conditional statements on top of the existing if statement"
   ]
  },
  {
   "cell_type": "code",
   "execution_count": 17,
   "metadata": {},
   "outputs": [
    {
     "name": "stdout",
     "output_type": "stream",
     "text": [
      "velocity or no: \n",
      "it gets there\n",
      "velocity or no: \n",
      "it gets there\n"
     ]
    }
   ],
   "source": [
    "import java.util.*;\n",
    "class Main{\n",
    "\n",
    "    public static void main(String args[]){\n",
    "        boolean position = true;\n",
    "        boolean velocity = true;\n",
    "        boolean acceleration = true;\n",
    "        Scanner input = new Scanner(System.in);\n",
    "        for(int i = 0; i < 2; i++){\n",
    "            System.out.print(\"velocity or no: \");\n",
    "            String words = input.nextLine();\n",
    "            System.out.println(words);\n",
    " \n",
    "            if(words.equals(\"yes\")){\n",
    "                velocity = false;\n",
    "                position = true ;\n",
    "            }else {\n",
    "                acceleration = true;\n",
    "                position = true;\n",
    "                velocity = true;\n",
    "            }\n",
    "\n",
    "            if (position && velocity && acceleration) {\n",
    "                System.out.println(\"it gets there\");\n",
    "            }\n",
    "            else if (!position || !velocity) {\n",
    "                System.out.println(\"it doesn't really get there\");\n",
    "            }\n",
    "            else if (velocity && !acceleration) {\n",
    "                System.out.println(\"it stand still\");\n",
    "            }\n",
    "            else if(!position){\n",
    "                System.out.println(\"is breaking\");\n",
    "            }\n",
    "        }\n",
    "    }\n",
    "}\n",
    "Main.main(null);"
   ]
  },
  {
   "cell_type": "markdown",
   "metadata": {},
   "source": [
    "### Using Switches"
   ]
  },
  {
   "cell_type": "code",
   "execution_count": 18,
   "metadata": {},
   "outputs": [
    {
     "name": "stdout",
     "output_type": "stream",
     "text": [
      "velocity or no: Ok\n",
      "Try a different inputit gets there\n",
      "velocity or no: ok\n",
      "Try a different inputit gets there\n"
     ]
    }
   ],
   "source": [
    "import java.util.*;\n",
    "class Main{\n",
    "\n",
    "    public static void main(String args[]){\n",
    "        boolean position = true;\n",
    "        boolean velocity = true;\n",
    "        boolean acceleration = true;\n",
    "        for(int i = 0; i < 2; i++){\n",
    "\n",
    "            \n",
    "\n",
    "            Scanner input = new Scanner(System.in);\n",
    "            System.out.print(\"velocity or no: \");\n",
    "            String words = input.nextLine();\n",
    "            System.out.println(words);\n",
    "\n",
    "            switch(words){\n",
    "                case (\"yes\"):\n",
    "                    velocity = false;\n",
    "                    position = true ;\n",
    "                    break;\n",
    "\n",
    "                case (\"no\"):\n",
    "                    acceleration = true;\n",
    "                    position = true;\n",
    "                    velocity = true;\n",
    "                    break;\n",
    "                default:\n",
    "                    System.out.print(\"Try a different input\");\n",
    "                    break;\n",
    "\n",
    "            }\n",
    "\n",
    "            \n",
    "            if (position && velocity && acceleration) {\n",
    "                System.out.println(\"it gets there\");\n",
    "            }\n",
    "            else if (!position || !velocity) {\n",
    "                System.out.println(\"it doesn't really get there\");\n",
    "            }\n",
    "            else if (velocity && !acceleration) {\n",
    "                System.out.println(\"it stand still\");\n",
    "            }\n",
    "            else if(!position){\n",
    "                System.out.println(\"is breaking\");\n",
    "            }\n",
    "        }\n",
    "\n",
    "    }\n",
    "}\n",
    "\n",
    "Main.main(null);"
   ]
  },
  {
   "cell_type": "markdown",
   "metadata": {},
   "source": [
    "### DeMorgan's Law\n",
    "- Basically the usage of negation in front of a conditional\n",
    "- Not (A and B) is the same as Not A or Not B.\n",
    "- Not (A or B) is the same as Not A and Not B.\n",
    "- *Use ! for not\n",
    "\n",
    "\n"
   ]
  },
  {
   "cell_type": "code",
   "execution_count": 32,
   "metadata": {},
   "outputs": [],
   "source": [
    "int x = 1;\n",
    "int y = 2;\n",
    "if(!(x < 2 && y > 1)){\n",
    "   System.out.println(\"Hello\");\n",
    "}   \n",
    "else if(!(x < 2 || y > 1)){\n",
    "   System.out.println(\"Good Day\");\n",
    "}"
   ]
  }
 ],
 "metadata": {
  "kernelspec": {
   "display_name": "Java",
   "language": "java",
   "name": "java"
  },
  "language_info": {
   "codemirror_mode": "java",
   "file_extension": ".jshell",
   "mimetype": "text/x-java-source",
   "name": "java",
   "pygments_lexer": "java",
   "version": "11.0.16+8-post-Ubuntu-0ubuntu120.04"
  },
  "orig_nbformat": 4,
  "vscode": {
   "interpreter": {
    "hash": "916dbcbb3f70747c44a77c7bcd40155683ae19c65e1c03b4aa3499c5328201f1"
   }
  }
 },
 "nbformat": 4,
 "nbformat_minor": 2
}
