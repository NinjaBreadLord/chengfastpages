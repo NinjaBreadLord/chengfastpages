{
 "cells": [
  {
   "attachments": {},
   "cell_type": "markdown",
   "metadata": {},
   "source": [
    "# Stacks"
   ]
  },
  {
   "cell_type": "code",
   "execution_count": 5,
   "metadata": {},
   "outputs": [],
   "source": [
    "import java.util.ArrayList;\n",
    "\n",
    "public class Stack<T> {\n",
    "    private ArrayList<T> stack;\n",
    "    \n",
    "    public Stack() {\n",
    "        stack = new ArrayList<>();\n",
    "    }\n",
    "\n",
    "    public void push(T item) {\n",
    "        stack.add(item);\n",
    "    }\n",
    "\n",
    "    public T pop() {\n",
    "        return stack.remove(stack.size() - 1);\n",
    "    }\n",
    "\n",
    "    public boolean isEmpty() {\n",
    "        return stack.isEmpty();\n",
    "    }\n",
    "\n",
    "    public int size() {\n",
    "        return stack.size();\n",
    "    }\n",
    "\n",
    "    public String toString(){\n",
    "        StringBuilder stringBuilder = new StringBuilder();\n",
    "        stringBuilder.append(\"[\");\n",
    "        for (int i = 0; i < stack.size(); i++) {\n",
    "            stringBuilder.append(stack.get(i));\n",
    "            if (i != stack.size() - 1) {\n",
    "                stringBuilder.append(\", \");\n",
    "            }\n",
    "        }\n",
    "        stringBuilder.append(\"]\");\n",
    "        return stringBuilder.toString();\n",
    "    }\n",
    "}"
   ]
  },
  {
   "cell_type": "code",
   "execution_count": 6,
   "metadata": {},
   "outputs": [
    {
     "name": "stdout",
     "output_type": "stream",
     "text": [
      "[3 4 5]\n",
      "3\n",
      "popped this: 5\n",
      "[3 4]\n"
     ]
    }
   ],
   "source": [
    "class Main{\n",
    "    public static void main(String[] args){\n",
    "        Stack<Integer> Stack = new Stack();\n",
    "        Stack.push(3);\n",
    "        Stack.push(4);\n",
    "        Stack.push(5);\n",
    "        System.out.println(Stack);\n",
    "\n",
    "        System.out.println(Stack.size());\n",
    "        System.out.println(\"popped this: \" + Stack.pop());\n",
    "        System.out.println(Stack);\n",
    "\n",
    "    }\n",
    "}\n",
    "\n",
    "Main.main(null);"
   ]
  }
 ],
 "metadata": {
  "kernelspec": {
   "display_name": "Java",
   "language": "java",
   "name": "java"
  },
  "language_info": {
   "codemirror_mode": "java",
   "file_extension": ".jshell",
   "mimetype": "text/x-java-source",
   "name": "java",
   "pygments_lexer": "java",
   "version": "17.0.5+8-Ubuntu-2ubuntu120.04"
  },
  "orig_nbformat": 4
 },
 "nbformat": 4,
 "nbformat_minor": 2
}
