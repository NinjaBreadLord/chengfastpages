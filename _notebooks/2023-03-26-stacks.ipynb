{
 "cells": [
  {
   "attachments": {},
   "cell_type": "markdown",
   "metadata": {},
   "source": [
    "# Stacks"
   ]
  },
  {
   "cell_type": "code",
   "execution_count": 64,
   "metadata": {
    "vscode": {
     "languageId": "java"
    }
   },
   "outputs": [],
   "source": [
    "import java.util.*;\n",
    "\n",
    "public class Stack<T extends Comparable<T>>{\n",
    "    private ArrayList<T> stack;\n",
    "    \n",
    "    public Stack() {\n",
    "        stack = new ArrayList<>();\n",
    "    }\n",
    "\n",
    "    public int compareTo(T other) {\n",
    "        return this.compareTo(other);\n",
    "    }\n",
    "\n",
    "\n",
    "    public void push(T item) {\n",
    "        stack.add(item);\n",
    "    }\n",
    "\n",
    "    public T peek() {\n",
    "        return stack.get(stack.size() - 1);\n",
    "    }\n",
    "\n",
    "    public T pop() {\n",
    "        return stack.remove(stack.size() - 1);\n",
    "    }\n",
    "\n",
    "    public boolean isEmpty() {\n",
    "        return stack.isEmpty();\n",
    "    }\n",
    "    \n",
    "    public int size() {\n",
    "        return stack.size();\n",
    "    }\n",
    "\n",
    "    public T get(int index) {\n",
    "        return stack.get(index);\n",
    "    }\n",
    "    \n",
    "    public void set(int index, T element) {\n",
    "        stack.set(index, element);\n",
    "    }\n",
    "\n",
    "    public void bubbleSort(Stack<T> stack){\n",
    "        for (int i = 0; i < stack.size() - 1; i++){\n",
    "            for (int j = 0; j < stack.size() - i - 1; j++){\n",
    "                T current = stack.get(j);\n",
    "                T next = stack.get(j+1);\n",
    "                if(current.compareTo(next) > 0){\n",
    "                    stack.set(j, next);\n",
    "                    stack.set(j + 1, current);\n",
    "                }\n",
    "            }\n",
    "        }\n",
    "    }\n",
    "    public String toString(){\n",
    "        StringBuilder stringBuilder = new StringBuilder();\n",
    "        stringBuilder.append(\"[\");\n",
    "        for (int i = 0; i < stack.size(); i++) {\n",
    "            stringBuilder.append(stack.get(i));\n",
    "            if (i != stack.size() - 1) {\n",
    "                stringBuilder.append(\", \");\n",
    "            }\n",
    "        }\n",
    "        stringBuilder.append(\"]\");\n",
    "        return stringBuilder.toString();\n",
    "    }\n",
    "}"
   ]
  },
  {
   "cell_type": "code",
   "execution_count": 66,
   "metadata": {
    "vscode": {
     "languageId": "java"
    }
   },
   "outputs": [
    {
     "name": "stdout",
     "output_type": "stream",
     "text": [
      "[3, 7, 6, 5, 4]\n",
      "Bubble sorted stack: \n",
      "[3, 4, 5, 6, 7]\n"
     ]
    }
   ],
   "source": [
    "import java.util.*;\n",
    "\n",
    "class Main{\n",
    "    public static void main(String[] args){\n",
    "        Stack<Integer> Stack = new Stack();\n",
    "        Stack.push(3);\n",
    "        Stack.push(7);\n",
    "        Stack.push(6);\n",
    "        Stack.push(5);\n",
    "        Stack.push(4);\n",
    "        System.out.println(Stack);\n",
    "\n",
    "        // System.out.println(\"popped this: \" + Stack.pop());\n",
    "        // System.out.println(Stack);\n",
    "\n",
    "        System.out.println(\"Bubble sorted stack: \"); \n",
    "        Stack.bubbleSort(Stack);\n",
    "        System.out.println(Stack);\n",
    "    }\n",
    "}\n",
    "\n",
    "Main.main(null);"
   ]
  }
 ],
 "metadata": {
  "kernelspec": {
   "display_name": "Java",
   "language": "java",
   "name": "java"
  },
  "language_info": {
   "codemirror_mode": "java",
   "file_extension": ".jshell",
   "mimetype": "text/x-java-source",
   "name": "Java",
   "pygments_lexer": "java",
   "version": "17.0.5+8-Ubuntu-2ubuntu120.04"
  },
  "orig_nbformat": 4
 },
 "nbformat": 4,
 "nbformat_minor": 2
}
